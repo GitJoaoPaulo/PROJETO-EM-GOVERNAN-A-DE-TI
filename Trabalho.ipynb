{
  "nbformat": 4,
  "nbformat_minor": 0,
  "metadata": {
    "colab": {
      "name": "Trabalho.ipynb",
      "provenance": [],
      "collapsed_sections": [
        "d8Mi8hO-0uL3",
        "_ke4tclW03RD",
        "749A1Z1SvAL-",
        "hua3SPocvPy8",
        "IGx8i79hvabv",
        "pnJ-8ZJ0vpLf",
        "Rv4S09pIvvYG",
        "MMgQGC1Kv3_w",
        "wCpJVrLtv-qH",
        "oZiNsTXJSZ-h"
      ]
    },
    "kernelspec": {
      "name": "python3",
      "display_name": "Python 3"
    },
    "language_info": {
      "name": "python"
    }
  },
  "cells": [
    {
      "cell_type": "markdown",
      "source": [
        "# **Analise de Acidentes Aéreos Ocorridos no Brasil de 2010 a 2019 ✈️**\n",
        "\n",
        "A base de dados de ocorrências aeronáuticas é gerenciada pelo Centro de Investigação e Prevenção de Acidentes Aeronáuticos (CENIPA). Constam nesta base de dados as ocorrências aeronáuticas notificadas ao CENIPA nos últimos 10 anos e que ocorreram em solo brasileiro. Dentre as informações disponíveis estão os dados sobre as aeronaves envolvidas, fatalidades, local, data, horário dos eventos e informações taxonômicas típicas das investigações de acidentes (AIG).\n",
        "\n",
        "São resguardadas a privacidade de pessoas físicas/jurídicas envolvidas conforme previsto pela Lei de Acesso à Informação (Lei n° 12.527, de 18 de novembro de 2011). Essa base de dados é composta por informações preliminares provenientes do formulário CENIPA-05 (Ficha de Notificação de Ocorrências Aeronáuticas) e consolidada a partir dos relatórios de investigações publicados. Outra forma de visualização desses dados é pelo Painel SIPAER disponível na página do [CENIPA](http://www.dados.gov.br/dataset/ocorrencias-aeronauticas-da-aviacao-civil-brasileira).\n"
      ],
      "metadata": {
        "id": "Y-9cXTq9q3ee"
      }
    },
    {
      "cell_type": "code",
      "execution_count": null,
      "metadata": {
        "id": "92f7BVlogpNQ"
      },
      "outputs": [],
      "source": [
        "import pandas as pd\n",
        "import numpy as np\n",
        "import matplotlib.pyplot as grafico\n",
        "import seaborn as sns\n",
        "import statistics as static\n",
        "from collections import Counter\n",
        "import math\n"
      ]
    },
    {
      "cell_type": "markdown",
      "source": [
        "*  **Pandas** \n",
        "\n",
        "A biblioteca Pandas é utilizada para análise de dados. O Pandas vem com um conjunto de opções e configurações alteráveis pelo usuário. Eles podem aumentar muito a produtividade, pois permitem que você personalize o ambiente do Pandas exatamente de acordo com suas preferências. EX: alterar algumas das configurações de exibição do Pandas para alterar quantas linhas e colunas são mostradas e com que precisão os números de ponto flutuante são exibidos (VOITTO, 2021)\n",
        "\n",
        "\n",
        "*  **NumPy**\n",
        "\n",
        "NumPy é usada principalmente para realizar cálculos em Arrays Multidimensionais. O NumPy fornece um grande conjunto de funções e operações de biblioteca que ajudam os programadores a executar facilmente cálculos numéricos (MEDIUM, 2018).\n",
        "\n",
        "\n",
        "\n",
        "*  **Matplotlib**\n",
        "\n",
        "Matplotlib é uma biblioteca para criação de gráficos e visualização de dados em geral e foi feita para a linguagem de programação Python. Além disso, ele oferece uma interface de programação orientada a objetos para incluir gráficos através de toolkits de interface gráfica como o Tkinter, Wxpython, Qt ou GTK (MEDIUM, 2020).\n",
        "\n",
        "\n",
        "*  **Seaborn**\n",
        "\n",
        "A biblioteca Seaborn trabalha em cima do matplotlib e ajuda a melhorar o visual dos gráficos, dando uma aparência mais bem acabada (VOOOO, 2017).\n",
        "\n",
        "\n",
        "*  **Scipy/scipy.stats**\n",
        "\n",
        "O SciPy é o pacote principal de rotinas científicas em Python, que se destina a operar de forma eficiente em matrizes numpy, de modo que numpy e scipy trabalhem lado a lado. scipy contém várias ferramentas dedicadas a problemas comuns em computação científica. Seus diferentes sub-módulos correspondem a diferentes aplicações, tais como interpolação, integração, otimização, processamento de imagens, estatísticas, funções especiais, etc (UFPR, ?).\n",
        "\n",
        "\n",
        "*  **Collections counter**\n",
        "\n",
        "Um Counter é uma subclasse de dict subclass para contagem de objetos hasheáveis. É uma coleção na qual elementos são armazenados como chaves de dicionário e suas contagens são armazenadas como valores de dicionário. Contagens podem ser qualquer valor inteiro incluindo zero e contagens negativas. A classe Counter é similar a sacos ou multiconjuntos em outras linguagens (PYTHON, ?)"
      ],
      "metadata": {
        "id": "RTQ-CFHE0NR9"
      }
    },
    {
      "cell_type": "markdown",
      "source": [
        "### Importação Dataset"
      ],
      "metadata": {
        "id": "d8Mi8hO-0uL3"
      }
    },
    {
      "cell_type": "code",
      "source": [
        "dados = pd.read_csv('ocorrencias_cenipa.csv', encoding='utf8')"
      ],
      "metadata": {
        "id": "xjKaDqFagzME"
      },
      "execution_count": null,
      "outputs": []
    },
    {
      "cell_type": "markdown",
      "source": [
        "### Tabela do Dataset"
      ],
      "metadata": {
        "id": "_ke4tclW03RD"
      }
    },
    {
      "cell_type": "code",
      "source": [
        "dados.head()"
      ],
      "metadata": {
        "colab": {
          "base_uri": "https://localhost:8080/",
          "height": 473
        },
        "id": "n1LvEbfphz5s",
        "outputId": "6f8022c1-acce-429e-8d55-63cd18aea07e"
      },
      "execution_count": null,
      "outputs": [
        {
          "output_type": "execute_result",
          "data": {
            "text/plain": [
              "   codigo             tipo                                          descricao  \\\n",
              "0   40107         ACIDENTE  COLISÃO COM OBSTÁCULO DURANTE A DECOLAGEM E POUSO   \n",
              "1   40147         ACIDENTE  FALHA OU MAU FUNCIONAMENTO DE SISTEMA / COMPON...   \n",
              "2   40148         ACIDENTE                                          PANE SECA   \n",
              "3   40149         ACIDENTE                              FALHA DO MOTOR EM VOO   \n",
              "4   40150  INCIDENTE GRAVE                                  COM TREM DE POUSO   \n",
              "\n",
              "             cidade estado        data   ano      hora aeronave_liberada  \\\n",
              "0            GURUPÁ     PA  2010-01-12  2010  14:30:00               SIM   \n",
              "1  UNIÃO DA VITÓRIA     PR  2010-04-08  2010  14:20:00               SIM   \n",
              "2      CAMPO GRANDE     MS  2010-03-19  2010  19:30:00               SIM   \n",
              "3          LUZIÂNIA     GO  2010-03-21  2010  20:45:00               SIM   \n",
              "4       SANTA MARIA     RS  2010-03-10  2010  17:20:00               SIM   \n",
              "\n",
              "  status_investigacao  ...  ocorrencia_saida_pista aeronave_tipo  \\\n",
              "0          FINALIZADA  ...                     NÃO         AVIÃO   \n",
              "1          FINALIZADA  ...                     SIM         AVIÃO   \n",
              "2          FINALIZADA  ...                     NÃO         AVIÃO   \n",
              "3          FINALIZADA  ...                     NÃO         AVIÃO   \n",
              "4          FINALIZADA  ...                     NÃO         AVIÃO   \n",
              "\n",
              "           aeronave_fabricante motor_tipo aeronave_motor_quantidade  \\\n",
              "0  NEIVA INDUSTRIA AERONAUTICA     PISTÃO                 MONOMOTOR   \n",
              "1               PIPER AIRCRAFT     PISTÃO                   BIMOTOR   \n",
              "2              CESSNA AIRCRAFT     PISTÃO                 MONOMOTOR   \n",
              "3                      XAVANTE     PISTÃO                 MONOMOTOR   \n",
              "4               BEECH AIRCRAFT     PISTÃO                 MONOMOTOR   \n",
              "\n",
              "  aeronave_assentos  aeronave_ano_fabricacao  aeronave_pais_fabricante  \\\n",
              "0                 7                     1977                    BRASIL   \n",
              "1                 6                     1997                    BRASIL   \n",
              "2                 6                     1962                    BRASIL   \n",
              "3                 2                     1974                    BRASIL   \n",
              "4                 6                     1974                    BRASIL   \n",
              "\n",
              "  aeronave_fase_operacao aeronave_nivel_dano  \n",
              "0                  POUSO                LEVE  \n",
              "1                  POUSO         SUBSTANCIAL  \n",
              "2      APROXIMAÇÃO FINAL         SUBSTANCIAL  \n",
              "3              DECOLAGEM           DESTRUÍDA  \n",
              "4                  POUSO                LEVE  \n",
              "\n",
              "[5 rows x 21 columns]"
            ],
            "text/html": [
              "\n",
              "  <div id=\"df-8a0165c7-9494-43c8-995c-ad27a158f885\">\n",
              "    <div class=\"colab-df-container\">\n",
              "      <div>\n",
              "<style scoped>\n",
              "    .dataframe tbody tr th:only-of-type {\n",
              "        vertical-align: middle;\n",
              "    }\n",
              "\n",
              "    .dataframe tbody tr th {\n",
              "        vertical-align: top;\n",
              "    }\n",
              "\n",
              "    .dataframe thead th {\n",
              "        text-align: right;\n",
              "    }\n",
              "</style>\n",
              "<table border=\"1\" class=\"dataframe\">\n",
              "  <thead>\n",
              "    <tr style=\"text-align: right;\">\n",
              "      <th></th>\n",
              "      <th>codigo</th>\n",
              "      <th>tipo</th>\n",
              "      <th>descricao</th>\n",
              "      <th>cidade</th>\n",
              "      <th>estado</th>\n",
              "      <th>data</th>\n",
              "      <th>ano</th>\n",
              "      <th>hora</th>\n",
              "      <th>aeronave_liberada</th>\n",
              "      <th>status_investigacao</th>\n",
              "      <th>...</th>\n",
              "      <th>ocorrencia_saida_pista</th>\n",
              "      <th>aeronave_tipo</th>\n",
              "      <th>aeronave_fabricante</th>\n",
              "      <th>motor_tipo</th>\n",
              "      <th>aeronave_motor_quantidade</th>\n",
              "      <th>aeronave_assentos</th>\n",
              "      <th>aeronave_ano_fabricacao</th>\n",
              "      <th>aeronave_pais_fabricante</th>\n",
              "      <th>aeronave_fase_operacao</th>\n",
              "      <th>aeronave_nivel_dano</th>\n",
              "    </tr>\n",
              "  </thead>\n",
              "  <tbody>\n",
              "    <tr>\n",
              "      <th>0</th>\n",
              "      <td>40107</td>\n",
              "      <td>ACIDENTE</td>\n",
              "      <td>COLISÃO COM OBSTÁCULO DURANTE A DECOLAGEM E POUSO</td>\n",
              "      <td>GURUPÁ</td>\n",
              "      <td>PA</td>\n",
              "      <td>2010-01-12</td>\n",
              "      <td>2010</td>\n",
              "      <td>14:30:00</td>\n",
              "      <td>SIM</td>\n",
              "      <td>FINALIZADA</td>\n",
              "      <td>...</td>\n",
              "      <td>NÃO</td>\n",
              "      <td>AVIÃO</td>\n",
              "      <td>NEIVA INDUSTRIA AERONAUTICA</td>\n",
              "      <td>PISTÃO</td>\n",
              "      <td>MONOMOTOR</td>\n",
              "      <td>7</td>\n",
              "      <td>1977</td>\n",
              "      <td>BRASIL</td>\n",
              "      <td>POUSO</td>\n",
              "      <td>LEVE</td>\n",
              "    </tr>\n",
              "    <tr>\n",
              "      <th>1</th>\n",
              "      <td>40147</td>\n",
              "      <td>ACIDENTE</td>\n",
              "      <td>FALHA OU MAU FUNCIONAMENTO DE SISTEMA / COMPON...</td>\n",
              "      <td>UNIÃO DA VITÓRIA</td>\n",
              "      <td>PR</td>\n",
              "      <td>2010-04-08</td>\n",
              "      <td>2010</td>\n",
              "      <td>14:20:00</td>\n",
              "      <td>SIM</td>\n",
              "      <td>FINALIZADA</td>\n",
              "      <td>...</td>\n",
              "      <td>SIM</td>\n",
              "      <td>AVIÃO</td>\n",
              "      <td>PIPER AIRCRAFT</td>\n",
              "      <td>PISTÃO</td>\n",
              "      <td>BIMOTOR</td>\n",
              "      <td>6</td>\n",
              "      <td>1997</td>\n",
              "      <td>BRASIL</td>\n",
              "      <td>POUSO</td>\n",
              "      <td>SUBSTANCIAL</td>\n",
              "    </tr>\n",
              "    <tr>\n",
              "      <th>2</th>\n",
              "      <td>40148</td>\n",
              "      <td>ACIDENTE</td>\n",
              "      <td>PANE SECA</td>\n",
              "      <td>CAMPO GRANDE</td>\n",
              "      <td>MS</td>\n",
              "      <td>2010-03-19</td>\n",
              "      <td>2010</td>\n",
              "      <td>19:30:00</td>\n",
              "      <td>SIM</td>\n",
              "      <td>FINALIZADA</td>\n",
              "      <td>...</td>\n",
              "      <td>NÃO</td>\n",
              "      <td>AVIÃO</td>\n",
              "      <td>CESSNA AIRCRAFT</td>\n",
              "      <td>PISTÃO</td>\n",
              "      <td>MONOMOTOR</td>\n",
              "      <td>6</td>\n",
              "      <td>1962</td>\n",
              "      <td>BRASIL</td>\n",
              "      <td>APROXIMAÇÃO FINAL</td>\n",
              "      <td>SUBSTANCIAL</td>\n",
              "    </tr>\n",
              "    <tr>\n",
              "      <th>3</th>\n",
              "      <td>40149</td>\n",
              "      <td>ACIDENTE</td>\n",
              "      <td>FALHA DO MOTOR EM VOO</td>\n",
              "      <td>LUZIÂNIA</td>\n",
              "      <td>GO</td>\n",
              "      <td>2010-03-21</td>\n",
              "      <td>2010</td>\n",
              "      <td>20:45:00</td>\n",
              "      <td>SIM</td>\n",
              "      <td>FINALIZADA</td>\n",
              "      <td>...</td>\n",
              "      <td>NÃO</td>\n",
              "      <td>AVIÃO</td>\n",
              "      <td>XAVANTE</td>\n",
              "      <td>PISTÃO</td>\n",
              "      <td>MONOMOTOR</td>\n",
              "      <td>2</td>\n",
              "      <td>1974</td>\n",
              "      <td>BRASIL</td>\n",
              "      <td>DECOLAGEM</td>\n",
              "      <td>DESTRUÍDA</td>\n",
              "    </tr>\n",
              "    <tr>\n",
              "      <th>4</th>\n",
              "      <td>40150</td>\n",
              "      <td>INCIDENTE GRAVE</td>\n",
              "      <td>COM TREM DE POUSO</td>\n",
              "      <td>SANTA MARIA</td>\n",
              "      <td>RS</td>\n",
              "      <td>2010-03-10</td>\n",
              "      <td>2010</td>\n",
              "      <td>17:20:00</td>\n",
              "      <td>SIM</td>\n",
              "      <td>FINALIZADA</td>\n",
              "      <td>...</td>\n",
              "      <td>NÃO</td>\n",
              "      <td>AVIÃO</td>\n",
              "      <td>BEECH AIRCRAFT</td>\n",
              "      <td>PISTÃO</td>\n",
              "      <td>MONOMOTOR</td>\n",
              "      <td>6</td>\n",
              "      <td>1974</td>\n",
              "      <td>BRASIL</td>\n",
              "      <td>POUSO</td>\n",
              "      <td>LEVE</td>\n",
              "    </tr>\n",
              "  </tbody>\n",
              "</table>\n",
              "<p>5 rows × 21 columns</p>\n",
              "</div>\n",
              "      <button class=\"colab-df-convert\" onclick=\"convertToInteractive('df-8a0165c7-9494-43c8-995c-ad27a158f885')\"\n",
              "              title=\"Convert this dataframe to an interactive table.\"\n",
              "              style=\"display:none;\">\n",
              "        \n",
              "  <svg xmlns=\"http://www.w3.org/2000/svg\" height=\"24px\"viewBox=\"0 0 24 24\"\n",
              "       width=\"24px\">\n",
              "    <path d=\"M0 0h24v24H0V0z\" fill=\"none\"/>\n",
              "    <path d=\"M18.56 5.44l.94 2.06.94-2.06 2.06-.94-2.06-.94-.94-2.06-.94 2.06-2.06.94zm-11 1L8.5 8.5l.94-2.06 2.06-.94-2.06-.94L8.5 2.5l-.94 2.06-2.06.94zm10 10l.94 2.06.94-2.06 2.06-.94-2.06-.94-.94-2.06-.94 2.06-2.06.94z\"/><path d=\"M17.41 7.96l-1.37-1.37c-.4-.4-.92-.59-1.43-.59-.52 0-1.04.2-1.43.59L10.3 9.45l-7.72 7.72c-.78.78-.78 2.05 0 2.83L4 21.41c.39.39.9.59 1.41.59.51 0 1.02-.2 1.41-.59l7.78-7.78 2.81-2.81c.8-.78.8-2.07 0-2.86zM5.41 20L4 18.59l7.72-7.72 1.47 1.35L5.41 20z\"/>\n",
              "  </svg>\n",
              "      </button>\n",
              "      \n",
              "  <style>\n",
              "    .colab-df-container {\n",
              "      display:flex;\n",
              "      flex-wrap:wrap;\n",
              "      gap: 12px;\n",
              "    }\n",
              "\n",
              "    .colab-df-convert {\n",
              "      background-color: #E8F0FE;\n",
              "      border: none;\n",
              "      border-radius: 50%;\n",
              "      cursor: pointer;\n",
              "      display: none;\n",
              "      fill: #1967D2;\n",
              "      height: 32px;\n",
              "      padding: 0 0 0 0;\n",
              "      width: 32px;\n",
              "    }\n",
              "\n",
              "    .colab-df-convert:hover {\n",
              "      background-color: #E2EBFA;\n",
              "      box-shadow: 0px 1px 2px rgba(60, 64, 67, 0.3), 0px 1px 3px 1px rgba(60, 64, 67, 0.15);\n",
              "      fill: #174EA6;\n",
              "    }\n",
              "\n",
              "    [theme=dark] .colab-df-convert {\n",
              "      background-color: #3B4455;\n",
              "      fill: #D2E3FC;\n",
              "    }\n",
              "\n",
              "    [theme=dark] .colab-df-convert:hover {\n",
              "      background-color: #434B5C;\n",
              "      box-shadow: 0px 1px 3px 1px rgba(0, 0, 0, 0.15);\n",
              "      filter: drop-shadow(0px 1px 2px rgba(0, 0, 0, 0.3));\n",
              "      fill: #FFFFFF;\n",
              "    }\n",
              "  </style>\n",
              "\n",
              "      <script>\n",
              "        const buttonEl =\n",
              "          document.querySelector('#df-8a0165c7-9494-43c8-995c-ad27a158f885 button.colab-df-convert');\n",
              "        buttonEl.style.display =\n",
              "          google.colab.kernel.accessAllowed ? 'block' : 'none';\n",
              "\n",
              "        async function convertToInteractive(key) {\n",
              "          const element = document.querySelector('#df-8a0165c7-9494-43c8-995c-ad27a158f885');\n",
              "          const dataTable =\n",
              "            await google.colab.kernel.invokeFunction('convertToInteractive',\n",
              "                                                     [key], {});\n",
              "          if (!dataTable) return;\n",
              "\n",
              "          const docLinkHtml = 'Like what you see? Visit the ' +\n",
              "            '<a target=\"_blank\" href=https://colab.research.google.com/notebooks/data_table.ipynb>data table notebook</a>'\n",
              "            + ' to learn more about interactive tables.';\n",
              "          element.innerHTML = '';\n",
              "          dataTable['output_type'] = 'display_data';\n",
              "          await google.colab.output.renderOutput(dataTable, element);\n",
              "          const docLink = document.createElement('div');\n",
              "          docLink.innerHTML = docLinkHtml;\n",
              "          element.appendChild(docLink);\n",
              "        }\n",
              "      </script>\n",
              "    </div>\n",
              "  </div>\n",
              "  "
            ]
          },
          "metadata": {},
          "execution_count": 3
        }
      ]
    },
    {
      "cell_type": "markdown",
      "source": [
        "### Colunas Dataset"
      ],
      "metadata": {
        "id": "749A1Z1SvAL-"
      }
    },
    {
      "cell_type": "code",
      "source": [
        "dados.columns.values"
      ],
      "metadata": {
        "colab": {
          "base_uri": "https://localhost:8080/"
        },
        "id": "eLqUyA_yjpMt",
        "outputId": "03fd3c2b-6f23-4786-d322-e7864840fbfc"
      },
      "execution_count": null,
      "outputs": [
        {
          "output_type": "execute_result",
          "data": {
            "text/plain": [
              "array(['codigo', 'tipo', 'descricao', 'cidade', 'estado', 'data', 'ano',\n",
              "       'hora', 'aeronave_liberada', 'status_investigacao',\n",
              "       'aeronaves_envolvidas', 'ocorrencia_saida_pista', 'aeronave_tipo',\n",
              "       'aeronave_fabricante', 'motor_tipo', 'aeronave_motor_quantidade',\n",
              "       'aeronave_assentos', 'aeronave_ano_fabricacao',\n",
              "       'aeronave_pais_fabricante', 'aeronave_fase_operacao',\n",
              "       'aeronave_nivel_dano'], dtype=object)"
            ]
          },
          "metadata": {},
          "execution_count": 4
        }
      ]
    },
    {
      "cell_type": "markdown",
      "source": [
        "### Colunas selecionadas"
      ],
      "metadata": {
        "id": "hua3SPocvPy8"
      }
    },
    {
      "cell_type": "code",
      "source": [
        "Columns = ['codigo', 'tipo', 'descricao', 'cidade', 'estado', 'data', 'ano',\n",
        "       'hora', 'aeronave_liberada', 'status_investigacao',\n",
        "       'aeronaves_envolvidas', 'ocorrencia_saida_pista', 'aeronave_tipo',\n",
        "       'aeronave_fabricante', 'motor_tipo', 'aeronave_motor_quantidade',\n",
        "       'aeronave_assentos', 'aeronave_ano_fabricacao',\n",
        "       'aeronave_pais_fabricante', 'aeronave_fase_operacao',\n",
        "       'aeronave_nivel_dano']\n",
        "\n",
        "colunasSelecionadas = dados.filter(items = Columns)\n",
        "colunasSelecionadas"
      ],
      "metadata": {
        "colab": {
          "base_uri": "https://localhost:8080/",
          "height": 782
        },
        "id": "hG8ZDi75jyls",
        "outputId": "48ee8261-252d-46c5-9a30-adac3ee332d1"
      },
      "execution_count": null,
      "outputs": [
        {
          "output_type": "execute_result",
          "data": {
            "text/plain": [
              "      codigo             tipo  \\\n",
              "0      40107         ACIDENTE   \n",
              "1      40147         ACIDENTE   \n",
              "2      40148         ACIDENTE   \n",
              "3      40149         ACIDENTE   \n",
              "4      40150  INCIDENTE GRAVE   \n",
              "...      ...              ...   \n",
              "5237   79117         ACIDENTE   \n",
              "5238   79119         ACIDENTE   \n",
              "5239   79123         ACIDENTE   \n",
              "5240   79203        INCIDENTE   \n",
              "5241   79227         ACIDENTE   \n",
              "\n",
              "                                              descricao  \\\n",
              "0     COLISÃO COM OBSTÁCULO DURANTE A DECOLAGEM E POUSO   \n",
              "1     FALHA OU MAU FUNCIONAMENTO DE SISTEMA / COMPON...   \n",
              "2                                             PANE SECA   \n",
              "3                                 FALHA DO MOTOR EM VOO   \n",
              "4                                     COM TREM DE POUSO   \n",
              "...                                                 ...   \n",
              "5237                                      INDETERMINADO   \n",
              "5238                                      INDETERMINADO   \n",
              "5239                                      INDETERMINADO   \n",
              "5240  FALHA OU MAU FUNCIONAMENTO DE SISTEMA / COMPON...   \n",
              "5241                                             OUTROS   \n",
              "\n",
              "                     cidade estado        data   ano      hora  \\\n",
              "0                    GURUPÁ     PA  2010-01-12  2010  14:30:00   \n",
              "1          UNIÃO DA VITÓRIA     PR  2010-04-08  2010  14:20:00   \n",
              "2              CAMPO GRANDE     MS  2010-03-19  2010  19:30:00   \n",
              "3                  LUZIÂNIA     GO  2010-03-21  2010  20:45:00   \n",
              "4               SANTA MARIA     RS  2010-03-10  2010  17:20:00   \n",
              "...                     ...    ...         ...   ...       ...   \n",
              "5237           ASSIS BRASIL     AC  2019-10-23  2019  15:00:00   \n",
              "5238  SÃO JOSÉ DO RIO CLARO     MT  2019-10-11  2019  10:00:00   \n",
              "5239               ANTONINA     PR  2019-09-21  2019  18:30:00   \n",
              "5240          FLORIANÓPOLIS     SC  2019-12-20  2019  16:37:00   \n",
              "5241         NOVO PROGRESSO     PA  2017-01-20  2017  16:24:00   \n",
              "\n",
              "     aeronave_liberada status_investigacao  ...  ocorrencia_saida_pista  \\\n",
              "0                  SIM          FINALIZADA  ...                     NÃO   \n",
              "1                  SIM          FINALIZADA  ...                     SIM   \n",
              "2                  SIM          FINALIZADA  ...                     NÃO   \n",
              "3                  SIM          FINALIZADA  ...                     NÃO   \n",
              "4                  SIM          FINALIZADA  ...                     NÃO   \n",
              "...                ...                 ...  ...                     ...   \n",
              "5237               SIM          FINALIZADA  ...                     NÃO   \n",
              "5238               SIM          FINALIZADA  ...                     NÃO   \n",
              "5239               SIM          FINALIZADA  ...                     NÃO   \n",
              "5240               SIM          FINALIZADA  ...                     NÃO   \n",
              "5241               SIM          FINALIZADA  ...                     NÃO   \n",
              "\n",
              "      aeronave_tipo          aeronave_fabricante     motor_tipo  \\\n",
              "0             AVIÃO  NEIVA INDUSTRIA AERONAUTICA         PISTÃO   \n",
              "1             AVIÃO               PIPER AIRCRAFT         PISTÃO   \n",
              "2             AVIÃO              CESSNA AIRCRAFT         PISTÃO   \n",
              "3             AVIÃO                      XAVANTE         PISTÃO   \n",
              "4             AVIÃO               BEECH AIRCRAFT         PISTÃO   \n",
              "...             ...                          ...            ...   \n",
              "5237  INDETERMINADO      FABRICANTE DESCONHECIDO  INDETERMINADO   \n",
              "5238  INDETERMINADO      FABRICANTE DESCONHECIDO  INDETERMINADO   \n",
              "5239          TRIKE                INDETERMINADO  INDETERMINADO   \n",
              "5240          AVIÃO              CESSNA AIRCRAFT         PISTÃO   \n",
              "5241          AVIÃO               PIPER AIRCRAFT         PISTÃO   \n",
              "\n",
              "     aeronave_motor_quantidade aeronave_assentos  aeronave_ano_fabricacao  \\\n",
              "0                    MONOMOTOR                 7                     1977   \n",
              "1                      BIMOTOR                 6                     1997   \n",
              "2                    MONOMOTOR                 6                     1962   \n",
              "3                    MONOMOTOR                 2                     1974   \n",
              "4                    MONOMOTOR                 6                     1974   \n",
              "...                        ...               ...                      ...   \n",
              "5237             INDETERMINADO                 0                        0   \n",
              "5238             INDETERMINADO                 0                        0   \n",
              "5239                SEM TRAÇÃO                 0                        0   \n",
              "5240                 MONOMOTOR                 2                     1980   \n",
              "5241                   BIMOTOR                 8                     1974   \n",
              "\n",
              "      aeronave_pais_fabricante aeronave_fase_operacao aeronave_nivel_dano  \n",
              "0                       BRASIL                  POUSO                LEVE  \n",
              "1                       BRASIL                  POUSO         SUBSTANCIAL  \n",
              "2                       BRASIL      APROXIMAÇÃO FINAL         SUBSTANCIAL  \n",
              "3                       BRASIL              DECOLAGEM           DESTRUÍDA  \n",
              "4                       BRASIL                  POUSO                LEVE  \n",
              "...                        ...                    ...                 ...  \n",
              "5237                    BRASIL          INDETERMINADO           DESTRUÍDA  \n",
              "5238                    BRASIL          INDETERMINADO           DESTRUÍDA  \n",
              "5239                    BRASIL              DECOLAGEM         SUBSTANCIAL  \n",
              "5240                    BRASIL     CORRIDA APÓS POUSO                LEVE  \n",
              "5241                    BRASIL                  POUSO         SUBSTANCIAL  \n",
              "\n",
              "[5242 rows x 21 columns]"
            ],
            "text/html": [
              "\n",
              "  <div id=\"df-5f87ac2b-b9a6-4041-a307-9af4a7246026\">\n",
              "    <div class=\"colab-df-container\">\n",
              "      <div>\n",
              "<style scoped>\n",
              "    .dataframe tbody tr th:only-of-type {\n",
              "        vertical-align: middle;\n",
              "    }\n",
              "\n",
              "    .dataframe tbody tr th {\n",
              "        vertical-align: top;\n",
              "    }\n",
              "\n",
              "    .dataframe thead th {\n",
              "        text-align: right;\n",
              "    }\n",
              "</style>\n",
              "<table border=\"1\" class=\"dataframe\">\n",
              "  <thead>\n",
              "    <tr style=\"text-align: right;\">\n",
              "      <th></th>\n",
              "      <th>codigo</th>\n",
              "      <th>tipo</th>\n",
              "      <th>descricao</th>\n",
              "      <th>cidade</th>\n",
              "      <th>estado</th>\n",
              "      <th>data</th>\n",
              "      <th>ano</th>\n",
              "      <th>hora</th>\n",
              "      <th>aeronave_liberada</th>\n",
              "      <th>status_investigacao</th>\n",
              "      <th>...</th>\n",
              "      <th>ocorrencia_saida_pista</th>\n",
              "      <th>aeronave_tipo</th>\n",
              "      <th>aeronave_fabricante</th>\n",
              "      <th>motor_tipo</th>\n",
              "      <th>aeronave_motor_quantidade</th>\n",
              "      <th>aeronave_assentos</th>\n",
              "      <th>aeronave_ano_fabricacao</th>\n",
              "      <th>aeronave_pais_fabricante</th>\n",
              "      <th>aeronave_fase_operacao</th>\n",
              "      <th>aeronave_nivel_dano</th>\n",
              "    </tr>\n",
              "  </thead>\n",
              "  <tbody>\n",
              "    <tr>\n",
              "      <th>0</th>\n",
              "      <td>40107</td>\n",
              "      <td>ACIDENTE</td>\n",
              "      <td>COLISÃO COM OBSTÁCULO DURANTE A DECOLAGEM E POUSO</td>\n",
              "      <td>GURUPÁ</td>\n",
              "      <td>PA</td>\n",
              "      <td>2010-01-12</td>\n",
              "      <td>2010</td>\n",
              "      <td>14:30:00</td>\n",
              "      <td>SIM</td>\n",
              "      <td>FINALIZADA</td>\n",
              "      <td>...</td>\n",
              "      <td>NÃO</td>\n",
              "      <td>AVIÃO</td>\n",
              "      <td>NEIVA INDUSTRIA AERONAUTICA</td>\n",
              "      <td>PISTÃO</td>\n",
              "      <td>MONOMOTOR</td>\n",
              "      <td>7</td>\n",
              "      <td>1977</td>\n",
              "      <td>BRASIL</td>\n",
              "      <td>POUSO</td>\n",
              "      <td>LEVE</td>\n",
              "    </tr>\n",
              "    <tr>\n",
              "      <th>1</th>\n",
              "      <td>40147</td>\n",
              "      <td>ACIDENTE</td>\n",
              "      <td>FALHA OU MAU FUNCIONAMENTO DE SISTEMA / COMPON...</td>\n",
              "      <td>UNIÃO DA VITÓRIA</td>\n",
              "      <td>PR</td>\n",
              "      <td>2010-04-08</td>\n",
              "      <td>2010</td>\n",
              "      <td>14:20:00</td>\n",
              "      <td>SIM</td>\n",
              "      <td>FINALIZADA</td>\n",
              "      <td>...</td>\n",
              "      <td>SIM</td>\n",
              "      <td>AVIÃO</td>\n",
              "      <td>PIPER AIRCRAFT</td>\n",
              "      <td>PISTÃO</td>\n",
              "      <td>BIMOTOR</td>\n",
              "      <td>6</td>\n",
              "      <td>1997</td>\n",
              "      <td>BRASIL</td>\n",
              "      <td>POUSO</td>\n",
              "      <td>SUBSTANCIAL</td>\n",
              "    </tr>\n",
              "    <tr>\n",
              "      <th>2</th>\n",
              "      <td>40148</td>\n",
              "      <td>ACIDENTE</td>\n",
              "      <td>PANE SECA</td>\n",
              "      <td>CAMPO GRANDE</td>\n",
              "      <td>MS</td>\n",
              "      <td>2010-03-19</td>\n",
              "      <td>2010</td>\n",
              "      <td>19:30:00</td>\n",
              "      <td>SIM</td>\n",
              "      <td>FINALIZADA</td>\n",
              "      <td>...</td>\n",
              "      <td>NÃO</td>\n",
              "      <td>AVIÃO</td>\n",
              "      <td>CESSNA AIRCRAFT</td>\n",
              "      <td>PISTÃO</td>\n",
              "      <td>MONOMOTOR</td>\n",
              "      <td>6</td>\n",
              "      <td>1962</td>\n",
              "      <td>BRASIL</td>\n",
              "      <td>APROXIMAÇÃO FINAL</td>\n",
              "      <td>SUBSTANCIAL</td>\n",
              "    </tr>\n",
              "    <tr>\n",
              "      <th>3</th>\n",
              "      <td>40149</td>\n",
              "      <td>ACIDENTE</td>\n",
              "      <td>FALHA DO MOTOR EM VOO</td>\n",
              "      <td>LUZIÂNIA</td>\n",
              "      <td>GO</td>\n",
              "      <td>2010-03-21</td>\n",
              "      <td>2010</td>\n",
              "      <td>20:45:00</td>\n",
              "      <td>SIM</td>\n",
              "      <td>FINALIZADA</td>\n",
              "      <td>...</td>\n",
              "      <td>NÃO</td>\n",
              "      <td>AVIÃO</td>\n",
              "      <td>XAVANTE</td>\n",
              "      <td>PISTÃO</td>\n",
              "      <td>MONOMOTOR</td>\n",
              "      <td>2</td>\n",
              "      <td>1974</td>\n",
              "      <td>BRASIL</td>\n",
              "      <td>DECOLAGEM</td>\n",
              "      <td>DESTRUÍDA</td>\n",
              "    </tr>\n",
              "    <tr>\n",
              "      <th>4</th>\n",
              "      <td>40150</td>\n",
              "      <td>INCIDENTE GRAVE</td>\n",
              "      <td>COM TREM DE POUSO</td>\n",
              "      <td>SANTA MARIA</td>\n",
              "      <td>RS</td>\n",
              "      <td>2010-03-10</td>\n",
              "      <td>2010</td>\n",
              "      <td>17:20:00</td>\n",
              "      <td>SIM</td>\n",
              "      <td>FINALIZADA</td>\n",
              "      <td>...</td>\n",
              "      <td>NÃO</td>\n",
              "      <td>AVIÃO</td>\n",
              "      <td>BEECH AIRCRAFT</td>\n",
              "      <td>PISTÃO</td>\n",
              "      <td>MONOMOTOR</td>\n",
              "      <td>6</td>\n",
              "      <td>1974</td>\n",
              "      <td>BRASIL</td>\n",
              "      <td>POUSO</td>\n",
              "      <td>LEVE</td>\n",
              "    </tr>\n",
              "    <tr>\n",
              "      <th>...</th>\n",
              "      <td>...</td>\n",
              "      <td>...</td>\n",
              "      <td>...</td>\n",
              "      <td>...</td>\n",
              "      <td>...</td>\n",
              "      <td>...</td>\n",
              "      <td>...</td>\n",
              "      <td>...</td>\n",
              "      <td>...</td>\n",
              "      <td>...</td>\n",
              "      <td>...</td>\n",
              "      <td>...</td>\n",
              "      <td>...</td>\n",
              "      <td>...</td>\n",
              "      <td>...</td>\n",
              "      <td>...</td>\n",
              "      <td>...</td>\n",
              "      <td>...</td>\n",
              "      <td>...</td>\n",
              "      <td>...</td>\n",
              "      <td>...</td>\n",
              "    </tr>\n",
              "    <tr>\n",
              "      <th>5237</th>\n",
              "      <td>79117</td>\n",
              "      <td>ACIDENTE</td>\n",
              "      <td>INDETERMINADO</td>\n",
              "      <td>ASSIS BRASIL</td>\n",
              "      <td>AC</td>\n",
              "      <td>2019-10-23</td>\n",
              "      <td>2019</td>\n",
              "      <td>15:00:00</td>\n",
              "      <td>SIM</td>\n",
              "      <td>FINALIZADA</td>\n",
              "      <td>...</td>\n",
              "      <td>NÃO</td>\n",
              "      <td>INDETERMINADO</td>\n",
              "      <td>FABRICANTE DESCONHECIDO</td>\n",
              "      <td>INDETERMINADO</td>\n",
              "      <td>INDETERMINADO</td>\n",
              "      <td>0</td>\n",
              "      <td>0</td>\n",
              "      <td>BRASIL</td>\n",
              "      <td>INDETERMINADO</td>\n",
              "      <td>DESTRUÍDA</td>\n",
              "    </tr>\n",
              "    <tr>\n",
              "      <th>5238</th>\n",
              "      <td>79119</td>\n",
              "      <td>ACIDENTE</td>\n",
              "      <td>INDETERMINADO</td>\n",
              "      <td>SÃO JOSÉ DO RIO CLARO</td>\n",
              "      <td>MT</td>\n",
              "      <td>2019-10-11</td>\n",
              "      <td>2019</td>\n",
              "      <td>10:00:00</td>\n",
              "      <td>SIM</td>\n",
              "      <td>FINALIZADA</td>\n",
              "      <td>...</td>\n",
              "      <td>NÃO</td>\n",
              "      <td>INDETERMINADO</td>\n",
              "      <td>FABRICANTE DESCONHECIDO</td>\n",
              "      <td>INDETERMINADO</td>\n",
              "      <td>INDETERMINADO</td>\n",
              "      <td>0</td>\n",
              "      <td>0</td>\n",
              "      <td>BRASIL</td>\n",
              "      <td>INDETERMINADO</td>\n",
              "      <td>DESTRUÍDA</td>\n",
              "    </tr>\n",
              "    <tr>\n",
              "      <th>5239</th>\n",
              "      <td>79123</td>\n",
              "      <td>ACIDENTE</td>\n",
              "      <td>INDETERMINADO</td>\n",
              "      <td>ANTONINA</td>\n",
              "      <td>PR</td>\n",
              "      <td>2019-09-21</td>\n",
              "      <td>2019</td>\n",
              "      <td>18:30:00</td>\n",
              "      <td>SIM</td>\n",
              "      <td>FINALIZADA</td>\n",
              "      <td>...</td>\n",
              "      <td>NÃO</td>\n",
              "      <td>TRIKE</td>\n",
              "      <td>INDETERMINADO</td>\n",
              "      <td>INDETERMINADO</td>\n",
              "      <td>SEM TRAÇÃO</td>\n",
              "      <td>0</td>\n",
              "      <td>0</td>\n",
              "      <td>BRASIL</td>\n",
              "      <td>DECOLAGEM</td>\n",
              "      <td>SUBSTANCIAL</td>\n",
              "    </tr>\n",
              "    <tr>\n",
              "      <th>5240</th>\n",
              "      <td>79203</td>\n",
              "      <td>INCIDENTE</td>\n",
              "      <td>FALHA OU MAU FUNCIONAMENTO DE SISTEMA / COMPON...</td>\n",
              "      <td>FLORIANÓPOLIS</td>\n",
              "      <td>SC</td>\n",
              "      <td>2019-12-20</td>\n",
              "      <td>2019</td>\n",
              "      <td>16:37:00</td>\n",
              "      <td>SIM</td>\n",
              "      <td>FINALIZADA</td>\n",
              "      <td>...</td>\n",
              "      <td>NÃO</td>\n",
              "      <td>AVIÃO</td>\n",
              "      <td>CESSNA AIRCRAFT</td>\n",
              "      <td>PISTÃO</td>\n",
              "      <td>MONOMOTOR</td>\n",
              "      <td>2</td>\n",
              "      <td>1980</td>\n",
              "      <td>BRASIL</td>\n",
              "      <td>CORRIDA APÓS POUSO</td>\n",
              "      <td>LEVE</td>\n",
              "    </tr>\n",
              "    <tr>\n",
              "      <th>5241</th>\n",
              "      <td>79227</td>\n",
              "      <td>ACIDENTE</td>\n",
              "      <td>OUTROS</td>\n",
              "      <td>NOVO PROGRESSO</td>\n",
              "      <td>PA</td>\n",
              "      <td>2017-01-20</td>\n",
              "      <td>2017</td>\n",
              "      <td>16:24:00</td>\n",
              "      <td>SIM</td>\n",
              "      <td>FINALIZADA</td>\n",
              "      <td>...</td>\n",
              "      <td>NÃO</td>\n",
              "      <td>AVIÃO</td>\n",
              "      <td>PIPER AIRCRAFT</td>\n",
              "      <td>PISTÃO</td>\n",
              "      <td>BIMOTOR</td>\n",
              "      <td>8</td>\n",
              "      <td>1974</td>\n",
              "      <td>BRASIL</td>\n",
              "      <td>POUSO</td>\n",
              "      <td>SUBSTANCIAL</td>\n",
              "    </tr>\n",
              "  </tbody>\n",
              "</table>\n",
              "<p>5242 rows × 21 columns</p>\n",
              "</div>\n",
              "      <button class=\"colab-df-convert\" onclick=\"convertToInteractive('df-5f87ac2b-b9a6-4041-a307-9af4a7246026')\"\n",
              "              title=\"Convert this dataframe to an interactive table.\"\n",
              "              style=\"display:none;\">\n",
              "        \n",
              "  <svg xmlns=\"http://www.w3.org/2000/svg\" height=\"24px\"viewBox=\"0 0 24 24\"\n",
              "       width=\"24px\">\n",
              "    <path d=\"M0 0h24v24H0V0z\" fill=\"none\"/>\n",
              "    <path d=\"M18.56 5.44l.94 2.06.94-2.06 2.06-.94-2.06-.94-.94-2.06-.94 2.06-2.06.94zm-11 1L8.5 8.5l.94-2.06 2.06-.94-2.06-.94L8.5 2.5l-.94 2.06-2.06.94zm10 10l.94 2.06.94-2.06 2.06-.94-2.06-.94-.94-2.06-.94 2.06-2.06.94z\"/><path d=\"M17.41 7.96l-1.37-1.37c-.4-.4-.92-.59-1.43-.59-.52 0-1.04.2-1.43.59L10.3 9.45l-7.72 7.72c-.78.78-.78 2.05 0 2.83L4 21.41c.39.39.9.59 1.41.59.51 0 1.02-.2 1.41-.59l7.78-7.78 2.81-2.81c.8-.78.8-2.07 0-2.86zM5.41 20L4 18.59l7.72-7.72 1.47 1.35L5.41 20z\"/>\n",
              "  </svg>\n",
              "      </button>\n",
              "      \n",
              "  <style>\n",
              "    .colab-df-container {\n",
              "      display:flex;\n",
              "      flex-wrap:wrap;\n",
              "      gap: 12px;\n",
              "    }\n",
              "\n",
              "    .colab-df-convert {\n",
              "      background-color: #E8F0FE;\n",
              "      border: none;\n",
              "      border-radius: 50%;\n",
              "      cursor: pointer;\n",
              "      display: none;\n",
              "      fill: #1967D2;\n",
              "      height: 32px;\n",
              "      padding: 0 0 0 0;\n",
              "      width: 32px;\n",
              "    }\n",
              "\n",
              "    .colab-df-convert:hover {\n",
              "      background-color: #E2EBFA;\n",
              "      box-shadow: 0px 1px 2px rgba(60, 64, 67, 0.3), 0px 1px 3px 1px rgba(60, 64, 67, 0.15);\n",
              "      fill: #174EA6;\n",
              "    }\n",
              "\n",
              "    [theme=dark] .colab-df-convert {\n",
              "      background-color: #3B4455;\n",
              "      fill: #D2E3FC;\n",
              "    }\n",
              "\n",
              "    [theme=dark] .colab-df-convert:hover {\n",
              "      background-color: #434B5C;\n",
              "      box-shadow: 0px 1px 3px 1px rgba(0, 0, 0, 0.15);\n",
              "      filter: drop-shadow(0px 1px 2px rgba(0, 0, 0, 0.3));\n",
              "      fill: #FFFFFF;\n",
              "    }\n",
              "  </style>\n",
              "\n",
              "      <script>\n",
              "        const buttonEl =\n",
              "          document.querySelector('#df-5f87ac2b-b9a6-4041-a307-9af4a7246026 button.colab-df-convert');\n",
              "        buttonEl.style.display =\n",
              "          google.colab.kernel.accessAllowed ? 'block' : 'none';\n",
              "\n",
              "        async function convertToInteractive(key) {\n",
              "          const element = document.querySelector('#df-5f87ac2b-b9a6-4041-a307-9af4a7246026');\n",
              "          const dataTable =\n",
              "            await google.colab.kernel.invokeFunction('convertToInteractive',\n",
              "                                                     [key], {});\n",
              "          if (!dataTable) return;\n",
              "\n",
              "          const docLinkHtml = 'Like what you see? Visit the ' +\n",
              "            '<a target=\"_blank\" href=https://colab.research.google.com/notebooks/data_table.ipynb>data table notebook</a>'\n",
              "            + ' to learn more about interactive tables.';\n",
              "          element.innerHTML = '';\n",
              "          dataTable['output_type'] = 'display_data';\n",
              "          await google.colab.output.renderOutput(dataTable, element);\n",
              "          const docLink = document.createElement('div');\n",
              "          docLink.innerHTML = docLinkHtml;\n",
              "          element.appendChild(docLink);\n",
              "        }\n",
              "      </script>\n",
              "    </div>\n",
              "  </div>\n",
              "  "
            ]
          },
          "metadata": {},
          "execution_count": 5
        }
      ]
    },
    {
      "cell_type": "markdown",
      "source": [
        "### Análise total de acidentes pelo tipo"
      ],
      "metadata": {
        "id": "IGx8i79hvabv"
      }
    },
    {
      "cell_type": "code",
      "source": [
        "coluna_acidente = colunasSelecionadas['tipo']\n",
        "teste = coluna_acidente.value_counts().sort_values(ascending=False)\n",
        "teste"
      ],
      "metadata": {
        "colab": {
          "base_uri": "https://localhost:8080/"
        },
        "id": "aj3aVO2XlsLr",
        "outputId": "71c40644-cc2b-4d0a-fbe3-6dcd90a11695"
      },
      "execution_count": null,
      "outputs": [
        {
          "output_type": "execute_result",
          "data": {
            "text/plain": [
              "INCIDENTE          2887\n",
              "ACIDENTE           1694\n",
              "INCIDENTE GRAVE     661\n",
              "Name: tipo, dtype: int64"
            ]
          },
          "metadata": {},
          "execution_count": 6
        }
      ]
    },
    {
      "cell_type": "code",
      "source": [
        "#Visualização no gráfico\n",
        "grafico.figure(figsize=(10, 8))\n",
        "tipo_acidentes = coluna_acidente.value_counts()\n",
        "\n",
        "grafico.pie(tipo_acidentes, labels = tipo_acidentes.index, autopct='%2.i%%')\n",
        "grafico.title(\"Tipos de Acidentes com Aeronaves (2010-2019)\")\n",
        "\n",
        "\n",
        "grafico.text(1.5, 0.2, 'Mediana: %d'%(np.median(np.array(teste))))\n",
        "grafico.text(1.5, 0.4, 'Média: %d'%(np.mean(np.array(teste))))\n",
        "grafico.text(1.5, 0.6, 'Desvio padrão: %.2f'%(static.stdev(teste)))  \n",
        "\n",
        "grafico.legend()\n",
        "grafico.show()"
      ],
      "metadata": {
        "colab": {
          "base_uri": "https://localhost:8080/",
          "height": 482
        },
        "id": "V_EyihSVlQn4",
        "outputId": "216d2b5a-cdcd-4de0-f6ce-710d9fc8e247"
      },
      "execution_count": null,
      "outputs": [
        {
          "output_type": "display_data",
          "data": {
            "text/plain": [
              "<Figure size 720x576 with 1 Axes>"
            ],
            "image/png": "[encoded data removed]"
          },
          "metadata": {}
        }
      ]
    },
    {
      "cell_type": "markdown",
      "source": [
        "Conforme a análise gráfica podemos concluir que a maior porcentagem de ocorrências é do **incidentes** com 2887 casos (55%)  e a menor se dá para **incidentes graves** com 661 dos casos (12%), no período de 2010 a 2019."
      ],
      "metadata": {
        "id": "OeWP46yhyhwF"
      }
    },
    {
      "cell_type": "markdown",
      "source": [
        "###  Análisa o número de acidentes por estado"
      ],
      "metadata": {
        "id": "pnJ-8ZJ0vpLf"
      }
    },
    {
      "cell_type": "code",
      "source": [
        "coluna_estado = colunasSelecionadas['estado']\n",
        "coluna_estado.value_counts().sort_index()"
      ],
      "metadata": {
        "colab": {
          "base_uri": "https://localhost:8080/"
        },
        "id": "n96ksXpwnSmB",
        "outputId": "7b8f1f92-7fd6-471f-a0f6-0593c73aa72f"
      },
      "execution_count": null,
      "outputs": [
        {
          "output_type": "execute_result",
          "data": {
            "text/plain": [
              "AC      54\n",
              "AL      30\n",
              "AM     217\n",
              "AP       9\n",
              "BA     200\n",
              "CE      78\n",
              "DF     129\n",
              "ES      70\n",
              "GO     286\n",
              "MA      68\n",
              "MG     482\n",
              "MS     132\n",
              "MT     255\n",
              "PA     263\n",
              "PB      23\n",
              "PE      90\n",
              "PI      36\n",
              "PR     441\n",
              "RJ     480\n",
              "RN      14\n",
              "RO      30\n",
              "RR      49\n",
              "RS     334\n",
              "SC     166\n",
              "SE      21\n",
              "SP    1239\n",
              "TO      46\n",
              "Name: estado, dtype: int64"
            ]
          },
          "metadata": {},
          "execution_count": 8
        }
      ]
    },
    {
      "cell_type": "code",
      "source": [
        "def numero_em_cima(rects, ax): \n",
        "    for rect in rects:\n",
        "        height = rect.get_height()\n",
        "        ax.annotate('{}'.format(height),\n",
        "                    xy=(rect.get_x() + rect.get_width() / 2, height),\n",
        "                    xytext=(0, 3),  \n",
        "                    textcoords=\"offset points\",\n",
        "                    ha='center', va='bottom')"
      ],
      "metadata": {
        "id": "JvLTbArAMg0N"
      },
      "execution_count": null,
      "outputs": []
    },
    {
      "cell_type": "code",
      "source": [
        "estado = Counter(dados['estado'])\n",
        "fase_estado = sorted(estado, key = estado.get, reverse = True)\n",
        "contador_estado = sorted(list(estado.values()), reverse = True)"
      ],
      "metadata": {
        "id": "FSxmdrtH31Ep"
      },
      "execution_count": null,
      "outputs": []
    },
    {
      "cell_type": "code",
      "source": [
        "grafico.style.use(\"ggplot\")\n",
        "fig,ax = grafico.subplots(figsize=(18, 6))\n",
        "\n",
        "x=fase_estado\n",
        "y=contador_estado\n",
        "\n",
        "rects1=ax.bar(x, y,color='Red')\n",
        "\n",
        "ax.set_xticks(x)\n",
        "grafico.ylabel(\"Número de ocorrências\")\n",
        "grafico.title('Ocorrências por estado (2010-2019)')\n",
        "\n",
        "grafico.text(7, 1100.9, 'Mediana: %d'%(np.median(np.array(contador_estado))))\n",
        "grafico.text(7, 1000.9, 'Média: %d'%(np.mean(np.array(contador_estado))))\n",
        "grafico.text(7, 900.8, 'Desvio padrão: %.2f'%(static.stdev(contador_estado)))   \n",
        "\n",
        "numero_em_cima(rects1, ax)\n",
        "grafico.show()"
      ],
      "metadata": {
        "colab": {
          "base_uri": "https://localhost:8080/",
          "height": 392
        },
        "id": "JwS7u1Hz3lom",
        "outputId": "c36c07ea-69f0-4233-fa54-5ad0162f653f"
      },
      "execution_count": null,
      "outputs": [
        {
          "output_type": "display_data",
          "data": {
            "text/plain": [
              "<Figure size 1296x432 with 1 Axes>"
            ],
            "image/png": "[encoded data removed]"
          },
          "metadata": {}
        }
      ]
    },
    {
      "cell_type": "markdown",
      "source": [
        "Após a análise gráfica podemos notar que o estado com maior quantidade de ocorrências nesse período fo SP com 1239, visto que realiza grande parte dos voos.\n",
        "\n",
        "\n",
        "O estado com menor quantidade foi AP durante esse periodo, devido a baixa demanda de voos."
      ],
      "metadata": {
        "id": "IjkrzkxL50AT"
      }
    },
    {
      "cell_type": "markdown",
      "source": [
        "###  Análisa o número de acidentes por ano"
      ],
      "metadata": {
        "id": "Rv4S09pIvvYG"
      }
    },
    {
      "cell_type": "code",
      "source": [
        "coluna_acidentes_ano = colunasSelecionadas['ano']\n",
        "coluna_acidentes_ano.value_counts().sort_index()"
      ],
      "metadata": {
        "colab": {
          "base_uri": "https://localhost:8080/"
        },
        "id": "4uKgIS_Rnnki",
        "outputId": "bc166b6c-63a3-4679-b077-1f0205b5c956"
      },
      "execution_count": null,
      "outputs": [
        {
          "output_type": "execute_result",
          "data": {
            "text/plain": [
              "2010    552\n",
              "2011    576\n",
              "2012    647\n",
              "2013    653\n",
              "2014    567\n",
              "2015    471\n",
              "2016    403\n",
              "2017    434\n",
              "2018    443\n",
              "2019    496\n",
              "Name: ano, dtype: int64"
            ]
          },
          "metadata": {},
          "execution_count": 12
        }
      ]
    },
    {
      "cell_type": "code",
      "source": [
        "coluna_ano = Counter(dados['ano'])\n",
        "fase_aeronave_ano = sorted(coluna_ano, key = coluna_ano.get, reverse = True)\n",
        "contador_aeronave_ano = sorted(list(coluna_ano.values()), reverse = True)"
      ],
      "metadata": {
        "id": "x-0GzHkOy4Ai"
      },
      "execution_count": null,
      "outputs": []
    },
    {
      "cell_type": "code",
      "source": [
        "grafico.style.use(\"ggplot\")\n",
        "fig,ax = grafico.subplots(figsize=(18, 6))\n",
        "\n",
        "x=fase_aeronave_ano[:10]\n",
        "y=contador_aeronave_ano[:10]\n",
        "\n",
        "rects1=ax.bar(x, y,color='Blue')\n",
        "\n",
        "ax.set_xticks(x)\n",
        "fig.autofmt_xdate(rotation=45)\n",
        "grafico.ylabel(\"Número de ocorrências\")\n",
        "grafico.title('Ocorrências por ano (2010-2019)')\n",
        "\n",
        "numero_em_cima(rects1, ax)\n",
        "\n",
        "grafico.show()"
      ],
      "metadata": {
        "colab": {
          "base_uri": "https://localhost:8080/",
          "height": 373
        },
        "id": "u0WGzkA290WU",
        "outputId": "833a046a-e084-4f2e-d86c-dfe993a0c642"
      },
      "execution_count": null,
      "outputs": [
        {
          "output_type": "display_data",
          "data": {
            "text/plain": [
              "<Figure size 1296x432 with 1 Axes>"
            ],
            "image/png": "[encoded data removed]"
          },
          "metadata": {}
        }
      ]
    },
    {
      "cell_type": "markdown",
      "source": [
        "Analisando o gráfico podemos verificar que entre 2010 a 2019 o ano que teve **mais acidentes** foi **2013** com 653.\n",
        "\n",
        "O ano com **menos acidentes** foi 2016 com 403 acidentes."
      ],
      "metadata": {
        "id": "TgscrFnR7Z_q"
      }
    },
    {
      "cell_type": "markdown",
      "source": [
        "### Análisa o tipo de aeronave envolvida em acidentes"
      ],
      "metadata": {
        "id": "MMgQGC1Kv3_w"
      }
    },
    {
      "cell_type": "code",
      "source": [
        "coluna_tipo = colunasSelecionadas['aeronave_tipo']\n",
        "coluna_tipo.value_counts().sort_index()"
      ],
      "metadata": {
        "colab": {
          "base_uri": "https://localhost:8080/"
        },
        "id": "GGmW8-fLn9BO",
        "outputId": "4af25786-9743-4ec0-f9bb-dc08baa5bad1"
      },
      "execution_count": null,
      "outputs": [
        {
          "output_type": "execute_result",
          "data": {
            "text/plain": [
              "ANFÍBIO            12\n",
              "AVIÃO            4213\n",
              "BALÃO               1\n",
              "DIRIGÍVEL           1\n",
              "HELICÓPTERO       600\n",
              "HIDROAVIÃO          1\n",
              "INDETERMINADO      86\n",
              "PLANADOR           15\n",
              "TRIKE               5\n",
              "ULTRALEVE         308\n",
              "Name: aeronave_tipo, dtype: int64"
            ]
          },
          "metadata": {},
          "execution_count": 15
        }
      ]
    },
    {
      "cell_type": "code",
      "source": [
        "coluna_tipo = Counter(dados['aeronave_tipo'])\n",
        "fase_aeronave_tipo = sorted(coluna_tipo, key = coluna_tipo.get, reverse = True)\n",
        "contador_aeronave_tipo = sorted(list(coluna_tipo.values()), reverse = True)"
      ],
      "metadata": {
        "id": "mGTA-DYy_Np0"
      },
      "execution_count": null,
      "outputs": []
    },
    {
      "cell_type": "code",
      "source": [
        "grafico.style.use(\"ggplot\")\n",
        "fig,ax = grafico.subplots(figsize=(13, 7))\n",
        "\n",
        "x=fase_aeronave_tipo[:10]\n",
        "y=contador_aeronave_tipo[:10]\n",
        "\n",
        "ax.barh(x, y, color='b')\n",
        "\n",
        "for i, v in enumerate(y):\n",
        "    ax.text(v + 3, i, str(v),va='center')\n",
        "\n",
        "ax.invert_yaxis()\n",
        "grafico.xlabel('Número de ocorrências')\n",
        "grafico.title('Ocorrências por tipo de aeronave (2010-2019)')\n",
        "\n",
        "grafico.text(2500, 2.5, 'Mediana: %d'%(np.median(np.array(contador_aeronave_tipo))))\n",
        "grafico.text(2500, 3.0, 'Média: %d'%(np.mean(np.array(contador_aeronave_tipo))))\n",
        "grafico.text(2500, 3.5, 'Desvio padrão: %.2f'%(static.stdev(contador_aeronave_tipo)))\n",
        "\n",
        "grafico.show()\n"
      ],
      "metadata": {
        "colab": {
          "base_uri": "https://localhost:8080/",
          "height": 462
        },
        "id": "SnHjQx0f9uSk",
        "outputId": "aedb8458-56a6-4192-f597-8a46b42832a7"
      },
      "execution_count": null,
      "outputs": [
        {
          "output_type": "display_data",
          "data": {
            "text/plain": [
              "<Figure size 936x504 with 1 Axes>"
            ],
            "image/png": "[encoded data removed]"
          },
          "metadata": {}
        }
      ]
    },
    {
      "cell_type": "markdown",
      "source": [
        "Após a análise gráfica podemos concluir que o tipo de aeronave com **maior índice** de ocorrencias é o **avião** com 4213 casos.\n",
        "\n",
        "Já o tipo de aeronave com **menor índice** de casos estão entre três tipos: **Balão**, **Dirigível** e **Hidroavião**.\n",
        "\n",
        "Algo a se levar em conta são os casos de **aeronaves não determinadas** com um valor alto de **86 casos**"
      ],
      "metadata": {
        "id": "TeN41sE-_-XL"
      }
    },
    {
      "cell_type": "markdown",
      "source": [
        "### Análisa o status das ocorrências de acidentes"
      ],
      "metadata": {
        "id": "wCpJVrLtv-qH"
      }
    },
    {
      "cell_type": "code",
      "source": [
        "coluna_status = colunasSelecionadas['status_investigacao']\n",
        "coluna_status.value_counts().sort_index()"
      ],
      "metadata": {
        "colab": {
          "base_uri": "https://localhost:8080/"
        },
        "id": "tAzgpcThorrH",
        "outputId": "04373508-a759-4756-eddb-7b1575e02aff"
      },
      "execution_count": null,
      "outputs": [
        {
          "output_type": "execute_result",
          "data": {
            "text/plain": [
              "ATIVA             816\n",
              "FINALIZADA       4066\n",
              "INDETERMINADA     360\n",
              "Name: status_investigacao, dtype: int64"
            ]
          },
          "metadata": {},
          "execution_count": 18
        }
      ]
    },
    {
      "cell_type": "code",
      "source": [
        "ocorrencia_status = Counter(dados['status_investigacao'])\n",
        "fase_status = sorted(ocorrencia_status, key = ocorrencia_status.get, reverse = True)\n",
        "contador_status = sorted(list(ocorrencia_status.values()), reverse = True)"
      ],
      "metadata": {
        "id": "1bbeJ5RbGZK_"
      },
      "execution_count": null,
      "outputs": []
    },
    {
      "cell_type": "code",
      "source": [
        "grafico.style.use(\"ggplot\")\n",
        "fig,ax = grafico.subplots(figsize=(10, 6))\n",
        "\n",
        "x=fase_status\n",
        "y=contador_status\n",
        "\n",
        "rects1=ax.bar(x, y)\n",
        "\n",
        "grafico.xlabel('')\n",
        "ax.set_xticks(x)\n",
        "grafico.ylabel(\"Número de ocorrências\")\n",
        "grafico.title('Status das Ocorrências de Aeronaves (2010-2019)')\n",
        "\n",
        "grafico.text(1, 2400.2, 'Mediana: %d'%(np.median(np.array(contador_status))))\n",
        "grafico.text(1, 2200.4, 'Média: %d'%(np.mean(np.array(contador_status))))\n",
        "grafico.text(1, 2000.5, 'Desvio padrão: %.2f'%(static.stdev(contador_status)))\n",
        "\n",
        "numero_em_cima(rects1, ax)\n",
        "\n",
        "grafico.show()\n"
      ],
      "metadata": {
        "colab": {
          "base_uri": "https://localhost:8080/",
          "height": 391
        },
        "id": "1w6enw2SGTV5",
        "outputId": "313d690e-4083-4f78-bd6f-591cf4b03766"
      },
      "execution_count": null,
      "outputs": [
        {
          "output_type": "display_data",
          "data": {
            "text/plain": [
              "<Figure size 720x432 with 1 Axes>"
            ],
            "image/png": "[encoded data removed]"
          },
          "metadata": {}
        }
      ]
    },
    {
      "cell_type": "markdown",
      "source": [
        "No período proprosto grande parte das ocorrências foram finalizadas com uma quantidade de 4066 casos sendo mais ou menos 77% de todas desse período."
      ],
      "metadata": {
        "id": "-xiPhrT5EVfA"
      }
    },
    {
      "cell_type": "markdown",
      "source": [
        "### Regressão Linear - Número de assentos"
      ],
      "metadata": {
        "id": "oZiNsTXJSZ-h"
      }
    },
    {
      "cell_type": "code",
      "source": [
        "df = colunasSelecionadas.drop(colunasSelecionadas.loc[colunasSelecionadas['aeronave_ano_fabricacao']==0].index, inplace=True)\n",
        "df = colunasSelecionadas.drop(colunasSelecionadas.loc[colunasSelecionadas['aeronave_ano_fabricacao']==9999].index, inplace=True)\n",
        "\n",
        "pair_col1 = ['aeronave_assentos', 'aeronave_ano_fabricacao']\n",
        "\n",
        "sns.set_theme(style=\"ticks\") "
      ],
      "metadata": {
        "id": "vjGFzywxroJU"
      },
      "execution_count": null,
      "outputs": []
    },
    {
      "cell_type": "code",
      "source": [
        "df = pd.DataFrame()\n",
        "df['x'] = colunasSelecionadas['aeronave_ano_fabricacao']\n",
        "df['y'] = colunasSelecionadas['aeronave_assentos']\n",
        "x_values = df[['x']]\n",
        "y_values = df[['y']]\n",
        "\n",
        "grafico.figure(figsize=(14,6))\n",
        "\n",
        "sns.regplot(x='aeronave_ano_fabricacao', y='aeronave_assentos', data=colunasSelecionadas)\n",
        "\n",
        "fit = np.polyfit(df['x'].values, df['y'].values, 1)\n",
        "reta = np.poly1d(fit)\n",
        "\n",
        "grafico.plot(df['x'].values, reta(df['x'].values), 'r')\n",
        "grafico.show()"
      ],
      "metadata": {
        "colab": {
          "base_uri": "https://localhost:8080/",
          "height": 393
        },
        "id": "gz-OfJ3bpgmI",
        "outputId": "995ed5ae-7476-401e-b4ef-e56f920ac17f"
      },
      "execution_count": null,
      "outputs": [
        {
          "output_type": "display_data",
          "data": {
            "text/plain": [
              "<Figure size 1008x432 with 1 Axes>"
            ],
            "image/png": "[encoded data removed]"
          },
          "metadata": {}
        }
      ]
    },
    {
      "cell_type": "markdown",
      "source": [
        "O gráfico representa o eixo x com o ano de fabricação das aeronaves e o eixo y representa o valor dos assentos, que ao passar dos anos aumentou bruscamente.\n",
        "\n",
        "A linha vermelha representa a tendência de assentos com o passar dos anos em que ocorreram os acidentes.\n",
        "\n",
        "Nota-se que aviões de pequeno porte abaixo de 100 assentos tem grandes indíces de ocorrências, mas que aviões com grande porte teve uma elevação grande após 1980.\n",
        "\n",
        "Entre esse período um dos tipos de aeronave que teve destaque nos acidentes foi Boeing com os seus variantes 707, 767, 737 e etc..(ANAC)."
      ],
      "metadata": {
        "id": "SOxog63nukbJ"
      }
    },
    {
      "cell_type": "markdown",
      "source": [
        "# Relatório Final\n",
        "\n",
        "O presente trabalho buscou apresentar informações a respeito de acidentes envolvendo aeronaves brasileiras no período entre 2010 a 2019. Toda a análise está totalmente ligada aos dados disponíveis e produzidos pelo CENIPA.\n",
        "\n",
        "Tendo como objetivos princípais analisar e mostrar informações sobre número de acidentes por ano; tipo de aeronave envolvidas nos acidentes; os status das ocorrências e outros...\n",
        "\n",
        "Observa-se que o estado com maior caso de ocorrências é São Paulo, onde grande parte dos casos foram por avioẽs e helicóptero com grande parte dos casos já finalizados.\n",
        "\n",
        "Estados com menor demanda de voos tem menor ocorrência de acidentes sendo alguns deles: Amapá; Rio Grande do Norte; Sergipe e Paraíba.\n",
        "\n",
        "Levando em conta a análise o meio de transporte aéreo é o mais seguro mesmo com tantos casos relatados, acima do ônibus, trem, barco, carro e moto pelo ranking \n",
        "disponivel BrigTek.\n"
      ],
      "metadata": {
        "id": "t3r9hAHL9RzP"
      }
    },
    {
      "cell_type": "markdown",
      "source": [
        "# Referências Bibliográficas\n",
        "CENIPA, FCA 58-1 Ocorrências Aeronáuticas: Panorama Estatístico da Aviação Brasileira. 118p. Centro de Investigações e Prevenção de Acidentes Aeronáuticos. 2016.\n",
        "\n",
        "CAMARA, Gilberto; ASSIS, Luiz F.; QUEIROZ, Gilberto R.;FERREIRA, Karine R.; LLAPA, Eduardo; VINHAS, Lubia. Big earth observation data analytics: matching requirements to system architectures. Proceedings of the 5th ACM SIGSPATIAL International Workshop on Analytics for Big Geospatial Data. 2016.\n",
        "\n",
        "CHOUDHARY, Jayvant; OHRI, Anurag; KUMAR, Brind. Identification of Road Accidents Hot Spots in Varanasi using QGIS. Proceedings of National Conference on Open Source GIS: Opportunities and Challenges Department of Civil Engineering, IIT(BHU), 2015.\n",
        "\n",
        "EMC. Data Science and Big Data Analytics: Discovering, Analyzing, Visualizing and Presenting Data. Wiley, EMC Education Services, 1st Edition, 2015, 399 p.\n",
        "\n",
        "GRUS, Joel. Data Science from Scratch: First Principles with Python. O'Reilly Media, Inc., 1st ed., 2015, 330 p.\n",
        "\n",
        "WAGNER, Michael; LLORT, Gérman; MERCADAL, Estanislao;GIMÉNEZ, Judit; LABARTA, Jesús. Performance Analysis of Parallel Python Applications. Proceeding of International Conference on Computational Science, ICCS. 2017.\n",
        "\n",
        "COUTINHO, Thiago. O que é a biblioteca Pandas?. Voitto,[S.I.], 2021.Disponível em:https://www.voitto.com.br/blog/artigo/biblioteca-pandas. Acesso em: 7 de nov. 2021\n",
        "\n",
        "JUNIOR, Luiz S.. Entendendo a biblioteca NumPy. Medium, [S.I.], 2018.Disponível em:https://medium.com/ensina-ai/entendendo-a-biblioteca-numpy-4858fde63355. Acesso em: 7 de nov. 2021\n",
        "\n",
        "UFPR. 4. SciPy. [S.I.]. [?]. Disponível em:http://www.estruturas.ufpr.br/disciplinas/pos-graduacao/introducao-a-computacao-cientifica-com-python/introducao-python/capitulo-4-scipy. Acesso em: 7 de nov. 2021\n",
        "\n",
        "MACHADO, Alysson. Biblioteca Matplotlib do Python. Medium, [S.I.], 2020.Disponível em:https://medium.com/@alyssonmachado388/biblioteca-matplotlib-do-python-5e32104439d0. Acesso em: 7 de nov. 2021\n",
        "\n",
        "SCHÖNHOFEN, Ricardo D.. Biblioteca Seaborn com o matplotlib. Vooo, [S.I.],2017.Disponível em:https://www.vooo.pro/insights/biblioteca-seaborn-com-o-matplotlib/. Acesso em: 7 de nov. 2021\n",
        "\n",
        "PYTHON. Collections — Tipos de dados do contêiner. [S.I.], [?] ,Disponível em: https://docs.python.org/3/library/collections.html. Acesso em: 7 de nov. 2021\n",
        "\n",
        "\n",
        "BringTek: https://bringtekcuriosity.com/2020/11/09/quais-sao-os-meios-de-transporte-mais-seguros-do-mundo/"
      ],
      "metadata": {
        "id": "3haDaAcQ9Emx"
      }
    }
  ]
}